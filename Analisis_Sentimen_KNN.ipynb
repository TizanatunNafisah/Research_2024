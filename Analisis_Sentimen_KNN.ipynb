{
  "nbformat": 4,
  "nbformat_minor": 0,
  "metadata": {
    "colab": {
      "provenance": [],
      "authorship_tag": "ABX9TyPo6B7LiMM30LCd+W8yp8JM",
      "include_colab_link": true
    },
    "kernelspec": {
      "name": "python3",
      "display_name": "Python 3"
    },
    "language_info": {
      "name": "python"
    }
  },
  "cells": [
    {
      "cell_type": "markdown",
      "metadata": {
        "id": "view-in-github",
        "colab_type": "text"
      },
      "source": [
        "<a href=\"https://colab.research.google.com/github/TizanatunNafisah/Research_2024/blob/main/Analisis_Sentimen_KNN.ipynb\" target=\"_parent\"><img src=\"https://colab.research.google.com/assets/colab-badge.svg\" alt=\"Open In Colab\"/></a>"
      ]
    },
    {
      "cell_type": "markdown",
      "source": [
        "#Analisi Sentimen ulasan mahasiswa dengan K-Nearest Neighbor"
      ],
      "metadata": {
        "id": "k8Lc5Hl5Fmhe"
      }
    },
    {
      "cell_type": "markdown",
      "source": [
        "**Menghitung TF-IDF**"
      ],
      "metadata": {
        "id": "55-UoW2fFhrV"
      }
    },
    {
      "cell_type": "code",
      "execution_count": null,
      "metadata": {
        "colab": {
          "base_uri": "https://localhost:8080/"
        },
        "id": "q97EyVrGiDft",
        "outputId": "a1fd0f29-5f68-453c-9550-1737995b7b0d"
      },
      "outputs": [
        {
          "output_type": "stream",
          "name": "stdout",
          "text": [
            "[[0.        0.        0.        ... 0.        0.        0.       ]\n",
            " [0.        0.        0.        ... 0.        0.        0.       ]\n",
            " [0.        0.        0.        ... 0.        0.        0.       ]\n",
            " ...\n",
            " [0.        0.        0.        ... 0.        0.1810887 0.       ]\n",
            " [0.        0.        0.        ... 0.        0.        0.       ]\n",
            " [0.        0.        0.        ... 0.        0.        0.       ]]\n",
            "['10' 'acc' 'ada' 'adalah' 'adanya' 'admin' 'administratif' 'agak' 'agar'\n",
            " 'ai' 'aja' 'akademik' 'akan' 'akedemik' 'akhir' 'akses' 'aksesnya'\n",
            " 'aktif' 'aktifkan' 'alangkah' 'aman' 'amankan' 'anak' 'annuqayah'\n",
            " 'apabila' 'apalagi' 'arahan' 'aspek' 'assesmen' 'atau' 'atu' 'awal'\n",
            " 'bagaimana' 'bagi' 'bagus' 'baik' 'baiknya' 'bantuan' 'banyak' 'baru'\n",
            " 'beberapa' 'begitu' 'belajar' 'belum' 'bem' 'bentrok' 'berada' 'berarti'\n",
            " 'berbenah' 'berdampak' 'berguna' 'berharap' 'berhenti' 'beri' 'berikan'\n",
            " 'berinovasi' 'berkaitan' 'berkembang' 'berkualitas' 'bersinergi'\n",
            " 'berurusan' 'biar' 'biasanya' 'bidang' 'biro' 'bisa' 'boleh' 'bombastis'\n",
            " 'browser' 'bug' 'bukan' 'butuh' 'butuhkan' 'cepat' 'cukup' 'dadakan'\n",
            " 'dalam' 'dan' 'dapat' 'dari' 'daripada' 'dasar' 'ddl' 'dengan' 'depannya'\n",
            " 'di' 'diakses' 'diaktifkan' 'diatur' 'dibagikan' 'diberikan' 'dielak'\n",
            " 'difokuskan' 'digabung' 'diharapkan' 'dihari' 'dihubungi' 'dijawab'\n",
            " 'dikarenakan' 'dikeluarkan' 'dikembangkan' 'dikirimkan' 'dimengerti'\n",
            " 'diperbaiki' 'diperluas' 'dipesantren' 'dipicu' 'disarankan'\n",
            " 'diselesaikan' 'disokong' 'disosialisaikan' 'ditingkatkan' 'diupdet'\n",
            " 'diusahakan' 'dkk' 'dlm' 'dokumen' 'dosen' 'down' 'dr' 'efektif'\n",
            " 'efesien' 'efisien' 'elemen' 'eror' 'etika' 'evaluasi' 'eyes' 'fakultas'\n",
            " 'fasilitas' 'file' 'formalitas' 'friendly' 'gampang' 'ganda' 'gangguan'\n",
            " 'good' 'grup' 'hal' 'hanya' 'harap' 'harapan' 'hari' 'harus' 'hilangnya'\n",
            " 'hingga' 'hp' 'iklim' 'info' 'informasi' 'informasinya' 'informatif'\n",
            " 'infrastruktur' 'ini' 'instika' 'institut' 'internet' 'intinya' 'ist'\n",
            " 'istirahat' 'itu' 'itulah' 'jadi' 'jadwal' 'jadwalnya' 'jam' 'jangan'\n",
            " 'jarang' 'jauh' 'jeda' 'jelas' 'jika' 'job' 'jos' 'judul' 'juga'\n",
            " 'jujurnya' 'junjung' 'kadang' 'kalangan' 'kalau' 'kali' 'kami' 'kampus'\n",
            " 'kampusnya' 'karena' 'karna' 'kasih' 'kata' 'kating' 'ke' 'keakuartan'\n",
            " 'kebaikan' 'kebijakan' 'kebutuhan' 'kecuali' 'kedepan' 'kedepannya'\n",
            " 'kegiatan' 'kekurangan' 'kelas' 'keluar' 'keluhan' 'kemampuan' 'kemaren'\n",
            " 'kemudahan' 'kendala' 'kepada' 'keperluan' 'keputusan' 'kerap' 'kesal'\n",
            " 'kesulitan' 'ketercapaian' 'ketika' 'ketus' 'khususnya' 'kian' 'killer'\n",
            " 'kinerja' 'kita' 'kkn' 'kok' 'koneksi' 'konsisten' 'konsisteskan' 'kosmi'\n",
            " 'krs' 'ktm' 'kualitas' 'kuesioner' 'kuliah' 'kurang' 'lagi' 'lain'\n",
            " 'lainnya' 'lainya' 'lama' 'langsung' 'layaknya' 'layanan' 'lebih'\n",
            " 'lebihnya' 'lemot' 'lihat' 'link' 'login' 'lulus' 'lunasi' 'maaf'\n",
            " 'madrasah' 'maha' 'mahasiswa' 'mahasiswanya' 'maju' 'maka' 'maksimalan'\n",
            " 'maksimalnya' 'mantap' 'masa' 'masalah' 'masalh' 'masih' 'masuk'\n",
            " 'masukan' 'materi' 'matkul' 'mau' 'mbah' 'mbkm' 'melaksanakan'\n",
            " 'melakukan' 'melalui' 'melayani' 'memahami' 'memang' 'membaik' 'membantu'\n",
            " 'membawa' 'memberikan' 'membingungkan' 'membuat' 'membuka' 'membutuhkan'\n",
            " 'meminimalisir' 'mempersulit' 'memproses' 'memuaskan' 'mendadak'\n",
            " 'mendapatkan' 'mengajar' 'mengakibatkan' 'mengakses' 'mengalami'\n",
            " 'mengandalkan' 'mengatakan' 'mengayomi' 'mengenai' 'menghadapi'\n",
            " 'menghambat' 'mengulurnya' 'mengurus' 'mengutamakan' 'menikah'\n",
            " 'meningkat' 'meningkatkan' 'menjadi' 'mental' 'menunggu' 'menurut'\n",
            " 'menyampaikan' 'menyebarnya' 'menyelesaikan' 'menyita' 'mepet' 'merasa'\n",
            " 'mereka' 'meskipun' 'mestinya' 'minimal' 'mohon' 'mondok' 'mudah'\n",
            " 'mumpuni' 'mungkin' 'murah' 'nambah' 'namun' 'nanti' 'ngerubah' 'nya'\n",
            " 'nyaman' 'objektif' 'ofline' 'oke' 'oleh' 'online' 'otomatis' 'pada'\n",
            " 'pahami' 'panjang' 'pebaiki' 'pelaksanaan' 'pelayanan' 'pelayanannya'\n",
            " 'pembayaran' 'pembeda' 'pembelajaran' 'pembimbing' 'pendaftaran'\n",
            " 'pendirian' 'pendukung' 'pengajuan' 'pengajuannya' 'pengumuman'\n",
            " 'pengurusan' 'penilaian' 'penting' 'penyandang' 'per' 'peralihan'\n",
            " 'perbaiki' 'perhatikan' 'perihal' 'perkembangan' 'perlu' 'permintaan'\n",
            " 'permudah' 'pernah' 'persis' 'pertahankan' 'pertanyaan' 'perubahan'\n",
            " 'pesantren' 'pesat' 'pilihan' 'pkl' 'pondok' 'pribadi' 'prihal'\n",
            " 'proaktif' 'prodi' 'profesional' 'program' 'progresif' 'proposal'\n",
            " 'proses' 'puas' 'punya' 'putri' 'ramah' 'rasakan' 'rata' 'rebutan'\n",
            " 'rektor' 'release' 'releasenya' 'responsif' 'ribet' 'ruang' 'rungsunawa'\n",
            " 'rupa' 'saat' 'sabar' 'saja' 'salinan' 'saling' 'sama' 'sampai'\n",
            " 'sampaikan' 'sangat' 'sangatlah' 'saran' 'satu' 'saya' 'sebagaimana'\n",
            " 'sebagian' 'sebaiknya' 'sebelum' 'sebelumnya' 'sebenarnya' 'sebisa'\n",
            " 'secara' 'secra' 'sedemikian' 'sedikit' 'segala' 'segera' 'seharusnyanya'\n",
            " 'sehingga' 'sejak' 'sejauh' 'sejujur' 'sekali' 'sekarang' 'sekedar'\n",
            " 'sekian' 'sekolah' 'selalu' 'selama' 'semacamnya' 'semakin' 'semester'\n",
            " 'semoga' 'sempurna' 'semua' 'semuanya' 'sendiri' 'senyum' 'seperti'\n",
            " 'sepertihalnya' 'sering' 'serta' 'sesuai' 'setelah' 'setiap' 'setuju'\n",
            " 'shalat' 'share' 'shok' 'siakad' 'siapkan' 'sibuk' 'side' 'signifikan'\n",
            " 'sistem' 'situs' 'skill' 'skripsi' 'soal' 'staf' 'staff' 'stafnya'\n",
            " 'status' 'sudah' 'sukses' 'sulit' 'system' 'tagihan' 'tahu' 'tahun' 'tak'\n",
            " 'tamah' 'tambah' 'tampak' 'tapi' 'tdk' 'tentang' 'tentu' 'tepat'\n",
            " 'terbantu' 'terbit' 'terealisasi' 'terhadap' 'terima' 'terimakasih'\n",
            " 'terjadi' 'terkadang' 'terkait' 'terkejut' 'terkesan' 'terlalu'\n",
            " 'terorganisir' 'tersebut' 'tertentu' 'terus' 'teruslah' 'tes' 'tetap'\n",
            " 'tetapi' 'thp' 'tiap' 'tiba' 'tidak' 'tingkat' 'tingkatkan' 'tolok'\n",
            " 'tolong' 'transformasi' 'transkip' 'tua' 'tugas' 'ua' 'uas' 'udah'\n",
            " 'ujian' 'ukm' 'ukur' 'umumkan' 'universitas' 'untuk' 'upgrade'\n",
            " 'upgrading' 'urusan' 'user' 'uts' 'wa' 'wadah' 'wakil' 'waktu' 'web'\n",
            " 'website' 'whatsapp' 'wifi' 'wifinya' 'yang' 'yg']\n"
          ]
        }
      ],
      "source": [
        "import pandas as pd\n",
        "from sklearn.feature_extraction.text import TfidfVectorizer\n",
        "\n",
        "# Baca data dari file Excel\n",
        "file_path = 'final.xlsx'  # Ganti dengan path file Excel kamu\n",
        "df = pd.read_excel(file_path)\n",
        "\n",
        "# Pastikan kolom yang berisi teks adalah 'review_text'\n",
        "documents = df['text'].astype(str).tolist()\n",
        "\n",
        "# Membuat instance TfidfVectorizer\n",
        "vectorizer = TfidfVectorizer()\n",
        "\n",
        "# Fit dan transform data\n",
        "tfidf_matrix = vectorizer.fit_transform(documents)\n",
        "\n",
        "# Menampilkan hasil TF-IDF\n",
        "print(tfidf_matrix.toarray())\n",
        "\n",
        "# Menampilkan fitur (kata-kata) yang dihasilkan\n",
        "print(vectorizer.get_feature_names_out())\n"
      ]
    },
    {
      "cell_type": "markdown",
      "source": [
        "#Analisis dengan KNN"
      ],
      "metadata": {
        "id": "vFcAGGFdFx8b"
      }
    },
    {
      "cell_type": "code",
      "source": [
        "import pandas as pd\n",
        "from sklearn.feature_extraction.text import TfidfVectorizer\n",
        "from sklearn.model_selection import train_test_split\n",
        "from sklearn.neighbors import KNeighborsClassifier\n",
        "from sklearn.metrics import classification_report, accuracy_score\n",
        "\n",
        "# Baca data dari file Excel\n",
        "file_path = 'final.xlsx'  # Ganti dengan path file Excel kamu\n",
        "df = pd.read_excel(file_path)\n",
        "\n",
        "# Pastikan kolom yang berisi teks adalah 'review_text' dan label adalah 'label'\n",
        "documents = df['text'].astype(str).tolist()\n",
        "labels = df['Sentimen'].tolist()\n",
        "\n",
        "# Pra-pemrosesan teks jika diperlukan\n",
        "# (Misalnya, penghapusan tanda baca, huruf kecil, dll.)\n",
        "\n",
        "# Ekstraksi fitur menggunakan TF-IDF\n",
        "vectorizer = TfidfVectorizer()\n",
        "tfidf_matrix = vectorizer.fit_transform(documents)\n",
        "\n",
        "# Pisahkan data menjadi training dan testing set\n",
        "X_train, X_test, y_train, y_test = train_test_split(tfidf_matrix, labels, test_size=0.2, random_state=42)\n",
        "\n",
        "# Membuat instance KNN\n",
        "knn = KNeighborsClassifier(n_neighbors=5)  # Kamu bisa mencoba nilai n_neighbors lain\n",
        "\n",
        "from sklearn.model_selection import cross_val_score\n",
        "\n",
        "# Melakukan validasi silang\n",
        "scores = cross_val_score(knn, tfidf_matrix, labels, cv=5)\n",
        "\n",
        "# Menampilkan hasil validasi silang\n",
        "print(\"Cross-validation scores:\", scores)\n",
        "print(\"Mean cross-validation score:\", scores.mean())\n",
        "\n",
        "\n",
        "# Latih model KNN menggunakan data training\n",
        "knn.fit(X_train, y_train)\n",
        "\n",
        "# Uji model menggunakan data testing\n",
        "y_pred = knn.predict(X_test)\n",
        "\n",
        "# Evaluasi performa model\n",
        "print(\"Accuracy:\", accuracy_score(y_test, y_pred))\n",
        "print(\"Classification Report:\\n\", classification_report(y_test, y_pred))\n"
      ],
      "metadata": {
        "colab": {
          "base_uri": "https://localhost:8080/"
        },
        "id": "6KbOydqzEo2W",
        "outputId": "537a8671-c6cf-41d4-e0e4-5619a2073cdf"
      },
      "execution_count": 13,
      "outputs": [
        {
          "output_type": "stream",
          "name": "stdout",
          "text": [
            "Cross-validation scores: [0.80952381 0.9047619  0.9047619  0.85714286 0.8       ]\n",
            "Mean cross-validation score: 0.8552380952380952\n",
            "Accuracy: 0.9523809523809523\n",
            "Classification Report:\n",
            "               precision    recall  f1-score   support\n",
            "\n",
            "     negatif       1.00      0.75      0.86         4\n",
            "     positif       0.94      1.00      0.97        17\n",
            "\n",
            "    accuracy                           0.95        21\n",
            "   macro avg       0.97      0.88      0.91        21\n",
            "weighted avg       0.96      0.95      0.95        21\n",
            "\n"
          ]
        }
      ]
    }
  ]
}